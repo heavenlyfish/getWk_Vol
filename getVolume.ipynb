{
 "cells": [
  {
   "cell_type": "code",
   "execution_count": 1,
   "metadata": {},
   "outputs": [],
   "source": [
    "import requests\n",
    "import time\n",
    "from bs4 import BeautifulSoup\n",
    "from selenium import webdriver\n",
    "from selenium.webdriver.support.ui import Select\n",
    "\n",
    "driver = webdriver.Chrome('D:/GitHub/SeleniumDriver/Chrome/chromedriver.exe')\n",
    "driver.maximize_window()\n",
    "driver.get(\"https://www.tdcc.com.tw/QStatWAR/inputframe.htm\")\n",
    "time.sleep(2)\n",
    "\n",
    "#soup = BeautifulSoup(driver.page_source,'lxml')\n",
    "#print(soup.prettify())\n",
    "\n",
    "parentHandle = driver.window_handles[0]\n",
    "parentHandle_title = driver.title\n",
    "#print(parentHandle_title)\n",
    "\n",
    "#<select name=\"Report\" onchange=\"displayField(this)\">\n",
    "select = Select(driver.find_element_by_name('Report'))\n",
    "#<option value=\"indw003\">上櫃混藏保管有價證券週餘額表</option>\n",
    "select.select_by_value('indw003')\n",
    "\n",
    "#<input type=\"submit\" value=\"查詢\" name=\"queryButton\">\n",
    "confirm_button = driver.find_element_by_name('queryButton')\n",
    "\n",
    "confirm_button.click()\n",
    "time.sleep(5)\n",
    "childHandle=driver.window_handles[1]\n",
    "driver.switch_to.window(childHandle)\n"
   ]
  },
  {
   "cell_type": "code",
   "execution_count": 21,
   "metadata": {},
   "outputs": [
    {
     "ename": "TypeError",
     "evalue": "'NoneType' object is not callable",
     "output_type": "error",
     "traceback": [
      "\u001b[1;31m---------------------------------------------------------------------------\u001b[0m",
      "\u001b[1;31mTypeError\u001b[0m                                 Traceback (most recent call last)",
      "\u001b[1;32m<ipython-input-21-b0124da55587>\u001b[0m in \u001b[0;36m<module>\u001b[1;34m\u001b[0m\n\u001b[0;32m      2\u001b[0m \u001b[0msoup\u001b[0m \u001b[1;33m=\u001b[0m \u001b[0mBeautifulSoup\u001b[0m\u001b[1;33m(\u001b[0m\u001b[0mdriver\u001b[0m\u001b[1;33m.\u001b[0m\u001b[0mpage_source\u001b[0m\u001b[1;33m,\u001b[0m \u001b[1;34m'lxml'\u001b[0m\u001b[1;33m)\u001b[0m\u001b[1;33m\u001b[0m\u001b[1;33m\u001b[0m\u001b[0m\n\u001b[0;32m      3\u001b[0m \u001b[0mweeklyVol\u001b[0m \u001b[1;33m=\u001b[0m \u001b[0msoup\u001b[0m\u001b[1;33m.\u001b[0m\u001b[0mfind\u001b[0m\u001b[1;33m(\u001b[0m\u001b[1;34m\"table\"\u001b[0m\u001b[1;33m,\u001b[0m \u001b[0mattrs\u001b[0m\u001b[1;33m=\u001b[0m\u001b[1;33m{\u001b[0m\u001b[1;34m\"class\"\u001b[0m\u001b[1;33m:\u001b[0m\u001b[1;34m\"mt\"\u001b[0m\u001b[1;33m}\u001b[0m\u001b[1;33m)\u001b[0m\u001b[1;33m\u001b[0m\u001b[1;33m\u001b[0m\u001b[0m\n\u001b[1;32m----> 4\u001b[1;33m \u001b[0mweeklyVol_data\u001b[0m \u001b[1;33m=\u001b[0m \u001b[0mweeklyVol\u001b[0m\u001b[1;33m.\u001b[0m\u001b[0mtbody\u001b[0m\u001b[1;33m.\u001b[0m\u001b[0mfindall\u001b[0m\u001b[1;33m(\u001b[0m\u001b[1;34m'tr'\u001b[0m\u001b[1;33m)\u001b[0m\u001b[1;33m\u001b[0m\u001b[1;33m\u001b[0m\u001b[0m\n\u001b[0m\u001b[0;32m      5\u001b[0m \u001b[0mprint\u001b[0m\u001b[1;33m(\u001b[0m\u001b[0mweeklyVol_data\u001b[0m\u001b[1;33m)\u001b[0m\u001b[1;33m\u001b[0m\u001b[1;33m\u001b[0m\u001b[0m\n\u001b[0;32m      6\u001b[0m \u001b[1;33m\u001b[0m\u001b[0m\n",
      "\u001b[1;31mTypeError\u001b[0m: 'NoneType' object is not callable"
     ]
    }
   ],
   "source": [
    "#code to extract data to excel\n",
    "soup = BeautifulSoup(driver.page_source, 'lxml')\n",
    "weeklyVol = soup.find(\"table\", attrs={\"class\":\"mt\"})\n",
    "weeklyVol_data = weeklyVol.tbody.find_all('tr')\n",
    "print(weeklyVol_data)\n",
    "\n",
    "#print(soup.prettify())\n",
    "#for a in soup.find_all(class_='wu19', align='left'):\n",
    "#    print(a.string)\n",
    "#code_cols = soup.find_all(class_='wul9', align='left')\n",
    "#for code_coln in code_cols:\n",
    "#    print(code_coln.text)\n",
    "\n",
    "# Get all the headings of list\n"
   ]
  },
  {
   "cell_type": "code",
   "execution_count": 4,
   "metadata": {},
   "outputs": [],
   "source": [
    "driver.close()\n",
    "driver.switch_to.window(parentHandle)\n",
    "driver.close()"
   ]
  },
  {
   "cell_type": "code",
   "execution_count": null,
   "metadata": {},
   "outputs": [],
   "source": []
  }
 ],
 "metadata": {
  "kernelspec": {
   "display_name": "Python 3",
   "language": "python",
   "name": "python3"
  },
  "language_info": {
   "codemirror_mode": {
    "name": "ipython",
    "version": 3
   },
   "file_extension": ".py",
   "mimetype": "text/x-python",
   "name": "python",
   "nbconvert_exporter": "python",
   "pygments_lexer": "ipython3",
   "version": "3.7.6"
  }
 },
 "nbformat": 4,
 "nbformat_minor": 4
}
